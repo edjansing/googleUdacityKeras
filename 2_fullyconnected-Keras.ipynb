{
 "cells": [
  {
   "cell_type": "markdown",
   "metadata": {
    "colab_type": "text",
    "id": "kR-4eNdK6lYS"
   },
   "source": [
    "Deep Learning\n",
    "=============\n",
    "\n",
    "Assignment 2\n",
    "------------\n",
    "\n",
    "Previously in `1_notmnist.ipynb`, we created a pickle with formatted datasets for training, development and testing on the [notMNIST dataset](http://yaroslavvb.blogspot.com/2011/09/notmnist-dataset.html).\n",
    "\n",
    "The goal of this assignment is to progressively train deeper and more accurate models using Keras."
   ]
  },
  {
   "cell_type": "code",
   "execution_count": 1,
   "metadata": {
    "cellView": "both",
    "colab": {
     "autoexec": {
      "startup": false,
      "wait_interval": 0
     }
    },
    "colab_type": "code",
    "collapsed": false,
    "id": "JLpLa8Jt7Vu4"
   },
   "outputs": [
    {
     "name": "stderr",
     "output_type": "stream",
     "text": [
      "Using Theano backend.\n"
     ]
    }
   ],
   "source": [
    "# These are all the modules we'll be using later. Make sure you can import them\n",
    "# before proceeding further.\n",
    "import cPickle as pickle\n",
    "import numpy as np\n",
    "\n",
    "# The main module within keras is the \"Sequential\" model (but not the only module!)\n",
    "# This is the one we'll be concerned with most often.  The Dense and Activation are part of the network\n",
    "# layers.\n",
    "from keras.models import Sequential\n",
    "from keras.layers import Dense, Activation"
   ]
  },
  {
   "cell_type": "markdown",
   "metadata": {
    "colab_type": "text",
    "id": "1HrCK6e17WzV"
   },
   "source": [
    "First reload the data we generated in `1_notmist.ipynb`."
   ]
  },
  {
   "cell_type": "code",
   "execution_count": 2,
   "metadata": {
    "cellView": "both",
    "colab": {
     "autoexec": {
      "startup": false,
      "wait_interval": 0
     },
     "output_extras": [
      {
       "item_id": 1
      }
     ]
    },
    "colab_type": "code",
    "collapsed": false,
    "executionInfo": {
     "elapsed": 19456,
     "status": "ok",
     "timestamp": 1449847956073,
     "user": {
      "color": "",
      "displayName": "",
      "isAnonymous": false,
      "isMe": true,
      "permissionId": "",
      "photoUrl": "",
      "sessionId": "0",
      "userId": ""
     },
     "user_tz": 480
    },
    "id": "y3-cj1bpmuxc",
    "outputId": "0ddb1607-1fc4-4ddb-de28-6c7ab7fb0c33"
   },
   "outputs": [
    {
     "name": "stdout",
     "output_type": "stream",
     "text": [
      "Training set (200000, 28, 28) (200000,)\n",
      "Validation set (10000, 28, 28) (10000,)\n",
      "Test set (18724, 28, 28) (18724,)\n"
     ]
    }
   ],
   "source": [
    "pickle_file = 'notMNIST.pickle'\n",
    "\n",
    "with open(pickle_file, 'rb') as f:\n",
    "  save = pickle.load(f)\n",
    "  train_dataset = save['train_dataset']\n",
    "  train_labels = save['train_labels']\n",
    "  valid_dataset = save['valid_dataset']\n",
    "  valid_labels = save['valid_labels']\n",
    "  test_dataset = save['test_dataset']\n",
    "  test_labels = save['test_labels']\n",
    "  del save  # hint to help gc free up memory\n",
    "  print 'Training set', train_dataset.shape, train_labels.shape\n",
    "  print 'Validation set', valid_dataset.shape, valid_labels.shape\n",
    "  print 'Test set', test_dataset.shape, test_labels.shape"
   ]
  },
  {
   "cell_type": "markdown",
   "metadata": {
    "colab_type": "text",
    "id": "L7aHrm6nGDMB"
   },
   "source": [
    "Reformat into a shape that's more adapted to the models we're going to train:\n",
    "- data as a flat matrix,\n",
    "- labels as float 1-hot encodings (See https://en.wikipedia.org/wiki/One-hot)."
   ]
  },
  {
   "cell_type": "code",
   "execution_count": 3,
   "metadata": {
    "cellView": "both",
    "colab": {
     "autoexec": {
      "startup": false,
      "wait_interval": 0
     },
     "output_extras": [
      {
       "item_id": 1
      }
     ]
    },
    "colab_type": "code",
    "collapsed": false,
    "executionInfo": {
     "elapsed": 19723,
     "status": "ok",
     "timestamp": 1449847956364,
     "user": {
      "color": "",
      "displayName": "",
      "isAnonymous": false,
      "isMe": true,
      "permissionId": "",
      "photoUrl": "",
      "sessionId": "0",
      "userId": ""
     },
     "user_tz": 480
    },
    "id": "IRSyYiIIGIzS",
    "outputId": "2ba0fc75-1487-4ace-a562-cf81cae82793"
   },
   "outputs": [
    {
     "name": "stdout",
     "output_type": "stream",
     "text": [
      "Training set (200000, 784) (200000, 10)\n",
      "Validation set (10000, 784) (10000, 10)\n",
      "Test set (18724, 784) (18724, 10)\n"
     ]
    }
   ],
   "source": [
    "image_size = 28\n",
    "num_labels = 10\n",
    "\n",
    "def reformat(dataset, labels):\n",
    "  dataset = dataset.reshape((-1, image_size * image_size)).astype(np.float32)\n",
    "  # Map 0 to [1.0, 0.0, 0.0 ...], 1 to [0.0, 1.0, 0.0 ...]\n",
    "  labels = (np.arange(num_labels) == labels[:,None]).astype(np.float32)\n",
    "  return dataset, labels\n",
    "train_dataset, train_labels = reformat(train_dataset, train_labels)\n",
    "valid_dataset, valid_labels = reformat(valid_dataset, valid_labels)\n",
    "test_dataset, test_labels = reformat(test_dataset, test_labels)\n",
    "print 'Training set', train_dataset.shape, train_labels.shape\n",
    "print 'Validation set', valid_dataset.shape, valid_labels.shape\n",
    "print 'Test set', test_dataset.shape, test_labels.shape"
   ]
  },
  {
   "cell_type": "markdown",
   "metadata": {
    "colab_type": "text",
    "id": "nCLVqyQ5vPPH"
   },
   "source": [
    "We're first going to train a multinomial logistic regression using stochastic gradient descent.\n",
    "\n",
    "Keras works like this:\n",
    "* You build a model, like this simple model:\n",
    "\n",
    "      model = Sequential([\n",
    "        Dense(32, input_dim=784),\n",
    "        Activation('relu'),\n",
    "        Dense(10),\n",
    "        Activation('softmax'),\n",
    "        ])\n",
    "\n",
    "* Then you define specifics of the model, such as optimize:\n",
    "\n",
    "\n",
    "        model.compile(optimizer='rmsprop',\n",
    "              loss='categorical_crossentropy',\n",
    "              metrics=['accuracy'])\n",
    "\n",
    "Refer to the Keras page for more information.  A good place to start is here:  https://keras.io/getting-started/sequential-model-guide/\n",
    "\n",
    "Let's build the model to mimic the linear regression you did the last exercise:"
   ]
  },
  {
   "cell_type": "code",
   "execution_count": 4,
   "metadata": {
    "collapsed": false
   },
   "outputs": [],
   "source": [
    "# Let's subset the data for faster turnaround.\n",
    "train_subset = 5000\n",
    "\n",
    "# Let's build our model . . . \n",
    "model = Sequential()\n",
    "\n",
    "# The first argument is the type of layer to add; in this case \"Dense\" network, which is a typical \n",
    "# (weights * input + bias) configuration.  It's first input is the number of neurons to add.  In this case, we want\n",
    "# to add our 28 x 28 size, so there is a neuron for each input.  The next is the input dimension. \n",
    "# The init argument defines how the weights will be initalized.  In this case \"normal\" means that they will be \n",
    "# initalized with a normal gaussian (N(0, 1)).  Finally, the activation function is the relu function.\n",
    "model.add(Dense(train_dataset.shape[1], input_dim=train_dataset.shape[1], init='normal', activation='relu'))\n",
    "\n",
    "# The next layer for the Linear Regression model we're building is the output layer, which has the 1-hot encodings\n",
    "# for each of our classes (where, \"A, B, C, D, E, F, G, H, I, J\" represents the ten classes).  Same arguments for this\n",
    "# layer, expect for the activition, which should be \"softmax\", which provides the sigmodial like function to make\n",
    "# the 1-hot encoding label at the end of the network.\n",
    "model.add(Dense(train_labels.shape[1], init='normal', activation='softmax'))"
   ]
  },
  {
   "cell_type": "markdown",
   "metadata": {
    "colab_type": "text",
    "id": "KQcL4uqISHjP"
   },
   "source": [
    "Let's define the optimizer (the stochastic gradient descent [SGD]) and the loss, compile, and then run.  We'll use \"categorical crossentropy\" for the loss, which will calculate the loss using crossentropy and our 1-hot encoded categories."
   ]
  },
  {
   "cell_type": "code",
   "execution_count": 5,
   "metadata": {
    "collapsed": false
   },
   "outputs": [],
   "source": [
    "from keras.optimizers import SGD\n",
    "import time\n",
    "sgd = SGD(lr=0.5)\n",
    "model.compile(loss='categorical_crossentropy', optimizer=sgd, metrics=['accuracy'])"
   ]
  },
  {
   "cell_type": "markdown",
   "metadata": {},
   "source": [
    "We'll keep it short, only running 32 epochs with a batch size of 32 for each iteration.  The epoch must be divisible by the batch size."
   ]
  },
  {
   "cell_type": "code",
   "execution_count": 6,
   "metadata": {
    "collapsed": false
   },
   "outputs": [
    {
     "name": "stdout",
     "output_type": "stream",
     "text": [
      "Epoch 1/32\n",
      "5000/5000 [==============================] - 0s - loss: 1.0111 - acc: 0.7334     \n",
      "Epoch 2/32\n",
      "5000/5000 [==============================] - 0s - loss: 0.6191 - acc: 0.8200     \n",
      "Epoch 3/32\n",
      "5000/5000 [==============================] - 0s - loss: 0.4825 - acc: 0.8638     \n",
      "Epoch 4/32\n",
      "5000/5000 [==============================] - 0s - loss: 0.3865 - acc: 0.8850     \n",
      "Epoch 5/32\n",
      "5000/5000 [==============================] - 0s - loss: 0.3140 - acc: 0.9184     \n",
      "Epoch 6/32\n",
      "5000/5000 [==============================] - 0s - loss: 0.2547 - acc: 0.9288     \n",
      "Epoch 7/32\n",
      "5000/5000 [==============================] - 0s - loss: 0.3990 - acc: 0.9134     \n",
      "Epoch 8/32\n",
      "5000/5000 [==============================] - 0s - loss: 0.2483 - acc: 0.9396     \n",
      "Epoch 9/32\n",
      "5000/5000 [==============================] - 0s - loss: 0.1732 - acc: 0.9586     \n",
      "Epoch 10/32\n",
      "5000/5000 [==============================] - 0s - loss: 0.1297 - acc: 0.9722     \n",
      "Epoch 11/32\n",
      "5000/5000 [==============================] - 0s - loss: 0.1348 - acc: 0.9706     \n",
      "Epoch 12/32\n",
      "5000/5000 [==============================] - 0s - loss: 0.1105 - acc: 0.9748     \n",
      "Epoch 13/32\n",
      "5000/5000 [==============================] - 0s - loss: 0.0799 - acc: 0.9790     \n",
      "Epoch 14/32\n",
      "5000/5000 [==============================] - 0s - loss: 0.2201 - acc: 0.9554     \n",
      "Epoch 15/32\n",
      "5000/5000 [==============================] - 0s - loss: 0.1310 - acc: 0.9708     \n",
      "Epoch 16/32\n",
      "5000/5000 [==============================] - 0s - loss: 0.0887 - acc: 0.9812     \n",
      "Epoch 17/32\n",
      "5000/5000 [==============================] - 0s - loss: 0.1231 - acc: 0.9754     \n",
      "Epoch 18/32\n",
      "5000/5000 [==============================] - 0s - loss: 0.1173 - acc: 0.9732     \n",
      "Epoch 19/32\n",
      "5000/5000 [==============================] - 0s - loss: 0.0891 - acc: 0.9836     \n",
      "Epoch 20/32\n",
      "5000/5000 [==============================] - 0s - loss: 0.0817 - acc: 0.9846     \n",
      "Epoch 21/32\n",
      "5000/5000 [==============================] - 0s - loss: 0.0488 - acc: 0.9890     \n",
      "Epoch 22/32\n",
      "5000/5000 [==============================] - 0s - loss: 0.0504 - acc: 0.9910     \n",
      "Epoch 23/32\n",
      "5000/5000 [==============================] - 0s - loss: 0.0335 - acc: 0.9940     \n",
      "Epoch 24/32\n",
      "5000/5000 [==============================] - 0s - loss: 0.0367 - acc: 0.9924     \n",
      "Epoch 25/32\n",
      "5000/5000 [==============================] - 0s - loss: 0.0387 - acc: 0.9932     \n",
      "Epoch 26/32\n",
      "5000/5000 [==============================] - 0s - loss: 0.0458 - acc: 0.9914     \n",
      "Epoch 27/32\n",
      "5000/5000 [==============================] - 0s - loss: 0.0436 - acc: 0.9916     \n",
      "Epoch 28/32\n",
      "5000/5000 [==============================] - 0s - loss: 0.0336 - acc: 0.9944     \n",
      "Epoch 29/32\n",
      "5000/5000 [==============================] - 0s - loss: 0.0310 - acc: 0.9950     \n",
      "Epoch 30/32\n",
      "5000/5000 [==============================] - 0s - loss: 0.0196 - acc: 0.9960     \n",
      "Epoch 31/32\n",
      "5000/5000 [==============================] - 0s - loss: 0.0340 - acc: 0.9918     \n",
      "Epoch 32/32\n",
      "5000/5000 [==============================] - 0s - loss: 0.0207 - acc: 0.9952     \n"
     ]
    },
    {
     "data": {
      "text/plain": [
       "<keras.callbacks.History at 0x13dea0e50>"
      ]
     },
     "execution_count": 6,
     "metadata": {},
     "output_type": "execute_result"
    }
   ],
   "source": [
    "model.fit(train_dataset[:train_subset, :], train_labels[:train_subset], nb_epoch=32, batch_size=32, verbose=1)"
   ]
  },
  {
   "cell_type": "code",
   "execution_count": 7,
   "metadata": {
    "collapsed": false
   },
   "outputs": [
    {
     "name": "stdout",
     "output_type": "stream",
     "text": [
      "18540/18724 [============================>.] - ETA: 0s"
     ]
    }
   ],
   "source": [
    "score = model.evaluate(test_dataset, test_labels, batch_size=20)"
   ]
  },
  {
   "cell_type": "markdown",
   "metadata": {},
   "source": [
    "The metric names (below) are the metrics that are automatically calculated by the model."
   ]
  },
  {
   "cell_type": "code",
   "execution_count": 8,
   "metadata": {
    "collapsed": false
   },
   "outputs": [
    {
     "data": {
      "text/plain": [
       "['loss', 'acc']"
      ]
     },
     "execution_count": 8,
     "metadata": {},
     "output_type": "execute_result"
    }
   ],
   "source": [
    "model.metrics_names"
   ]
  },
  {
   "cell_type": "markdown",
   "metadata": {},
   "source": [
    "\"loss\" is the score that is produced by the optimizer and \"acc\" is the accuracy of that score (that is, how many times did the algorithm get it right with the training data provided).  When we calculated score from \"score = model.evaluate...\" we are scoring the model against unseen data (that is, data not used for training)."
   ]
  },
  {
   "cell_type": "code",
   "execution_count": 9,
   "metadata": {
    "collapsed": false
   },
   "outputs": [
    {
     "data": {
      "text/plain": [
       "[0.70455819109475015, 0.9012497285318487]"
      ]
     },
     "execution_count": 9,
     "metadata": {},
     "output_type": "execute_result"
    }
   ],
   "source": [
    "score"
   ]
  },
  {
   "cell_type": "markdown",
   "metadata": {},
   "source": [
    "Note that the score from the training is (likely) higher than the score from the test data.  This is because test-on-train always overestimates.  Our mulinomial regression model is performing pretty well, at about 89% accuracy.  That's not bad.  Let's try to improve it, while learning some new things."
   ]
  },
  {
   "cell_type": "markdown",
   "metadata": {
    "colab_type": "text",
    "id": "7omWxtvLLxik"
   },
   "source": [
    "---\n",
    "\n",
    "Let's turn the logistic regression example with SGD into a 1-hidden layer neural network with rectified linear units (nn.relu()) and 1024 hidden nodes. This model should improve your validation / test accuracy.\n",
    "\n",
    "---"
   ]
  },
  {
   "cell_type": "code",
   "execution_count": 10,
   "metadata": {
    "collapsed": true
   },
   "outputs": [],
   "source": [
    "# Let's build our model . . . \n",
    "model = Sequential()\n",
    "\n",
    "# Input layer\n",
    "model.add(Dense(train_dataset.shape[1], input_dim=train_dataset.shape[1], init='normal', activation='relu'))\n",
    "\n",
    "# Hidden layer\n",
    "model.add(Dense(1024, init='normal', activation='relu'))\n",
    "\n",
    "# Output layer\n",
    "model.add(Dense(train_labels.shape[1], init='normal', activation='softmax'))"
   ]
  },
  {
   "cell_type": "code",
   "execution_count": 11,
   "metadata": {
    "collapsed": true
   },
   "outputs": [],
   "source": [
    "sgd = SGD(lr=0.5)\n",
    "model.compile(loss='categorical_crossentropy', optimizer=sgd, metrics=['accuracy'])"
   ]
  },
  {
   "cell_type": "markdown",
   "metadata": {},
   "source": [
    "Let's learn how to record and plot the losses after fitting.  This is accomplished through \"callbacks\".  Here, we'll define a class that will have two methods in it:  on_train_begin and on_epoch_end.  When the fit routine begins, it will make a callback to the on_train_begin method in the LossHistory class.  This initializes the variable \"losses\".  Then, at the end of each epoch, the method on_epoch_end is called, which then appends the loss value for the epoch to the \"losses\" list.  From there, we should be able to plot."
   ]
  },
  {
   "cell_type": "code",
   "execution_count": 12,
   "metadata": {
    "collapsed": false
   },
   "outputs": [],
   "source": [
    "import keras\n",
    "class LossHistory(keras.callbacks.Callback):\n",
    "    def on_train_begin(self, logs={}):\n",
    "        self.losses = []\n",
    "\n",
    "    def on_epoch_end(self, batch, logs={}):\n",
    "        self.losses.append(logs.get('loss'))"
   ]
  },
  {
   "cell_type": "code",
   "execution_count": 13,
   "metadata": {
    "collapsed": false
   },
   "outputs": [
    {
     "name": "stdout",
     "output_type": "stream",
     "text": [
      "Epoch 1/32\n",
      "5000/5000 [==============================] - 1s - loss: 0.9882 - acc: 0.7364     \n",
      "Epoch 2/32\n",
      "5000/5000 [==============================] - 1s - loss: 0.5331 - acc: 0.8332     \n",
      "Epoch 3/32\n",
      "5000/5000 [==============================] - 1s - loss: 0.3791 - acc: 0.8804     \n",
      "Epoch 4/32\n",
      "5000/5000 [==============================] - 1s - loss: 0.3107 - acc: 0.9056     \n",
      "Epoch 5/32\n",
      "5000/5000 [==============================] - 1s - loss: 0.2558 - acc: 0.9212     \n",
      "Epoch 6/32\n",
      "5000/5000 [==============================] - 1s - loss: 0.1772 - acc: 0.9466     \n",
      "Epoch 7/32\n",
      "5000/5000 [==============================] - 1s - loss: 0.1538 - acc: 0.9552     \n",
      "Epoch 8/32\n",
      "5000/5000 [==============================] - 1s - loss: 0.1313 - acc: 0.9628     \n",
      "Epoch 9/32\n",
      "5000/5000 [==============================] - 1s - loss: 0.1353 - acc: 0.9620     \n",
      "Epoch 10/32\n",
      "5000/5000 [==============================] - 1s - loss: 0.0981 - acc: 0.9714     \n",
      "Epoch 11/32\n",
      "5000/5000 [==============================] - 1s - loss: 0.0698 - acc: 0.9796     \n",
      "Epoch 12/32\n",
      "5000/5000 [==============================] - 1s - loss: 0.0653 - acc: 0.9816     \n",
      "Epoch 13/32\n",
      "5000/5000 [==============================] - 1s - loss: 0.0538 - acc: 0.9844     \n",
      "Epoch 14/32\n",
      "5000/5000 [==============================] - 1s - loss: 0.0369 - acc: 0.9904     \n",
      "Epoch 15/32\n",
      "5000/5000 [==============================] - 1s - loss: 0.0263 - acc: 0.9922     \n",
      "Epoch 16/32\n",
      "5000/5000 [==============================] - 1s - loss: 0.0383 - acc: 0.9894     \n",
      "Epoch 17/32\n",
      "5000/5000 [==============================] - 1s - loss: 0.0184 - acc: 0.9940     \n",
      "Epoch 18/32\n",
      "5000/5000 [==============================] - 1s - loss: 0.0211 - acc: 0.9934     \n",
      "Epoch 19/32\n",
      "5000/5000 [==============================] - 1s - loss: 0.0123 - acc: 0.9968     \n",
      "Epoch 20/32\n",
      "5000/5000 [==============================] - 1s - loss: 0.0254 - acc: 0.9928     \n",
      "Epoch 21/32\n",
      "5000/5000 [==============================] - 1s - loss: 0.0234 - acc: 0.9934     \n",
      "Epoch 22/32\n",
      "5000/5000 [==============================] - 1s - loss: 0.0134 - acc: 0.9966     \n",
      "Epoch 23/32\n",
      "5000/5000 [==============================] - 1s - loss: 0.0182 - acc: 0.9948     \n",
      "Epoch 24/32\n",
      "5000/5000 [==============================] - 1s - loss: 0.0135 - acc: 0.9958     \n",
      "Epoch 25/32\n",
      "5000/5000 [==============================] - 1s - loss: 0.0090 - acc: 0.9968     \n",
      "Epoch 26/32\n",
      "5000/5000 [==============================] - 1s - loss: 0.0091 - acc: 0.9966     \n",
      "Epoch 27/32\n",
      "5000/5000 [==============================] - 1s - loss: 0.0080 - acc: 0.9968     \n",
      "Epoch 28/32\n",
      "5000/5000 [==============================] - 1s - loss: 0.0060 - acc: 0.9982     \n",
      "Epoch 29/32\n",
      "5000/5000 [==============================] - 1s - loss: 0.0060 - acc: 0.9976     \n",
      "Epoch 30/32\n",
      "5000/5000 [==============================] - 1s - loss: 0.0049 - acc: 0.9984     \n",
      "Epoch 31/32\n",
      "5000/5000 [==============================] - 1s - loss: 0.0045 - acc: 0.9986     \n",
      "Epoch 32/32\n",
      "5000/5000 [==============================] - 1s - loss: 0.0046 - acc: 0.9980     \n"
     ]
    },
    {
     "data": {
      "text/plain": [
       "<keras.callbacks.History at 0x14363a290>"
      ]
     },
     "execution_count": 13,
     "metadata": {},
     "output_type": "execute_result"
    }
   ],
   "source": [
    "# Let's create an object LossHistory()\n",
    "history = LossHistory()\n",
    "\n",
    "# Note the argument at the end of the fit method \"callbacks = [history]\"\n",
    "model.fit(train_dataset[:train_subset, :], train_labels[:train_subset], nb_epoch=32, batch_size=32, verbose=1, callbacks=[history])"
   ]
  },
  {
   "cell_type": "code",
   "execution_count": 14,
   "metadata": {
    "collapsed": false
   },
   "outputs": [
    {
     "data": {
      "text/plain": [
       "<matplotlib.text.Text at 0x144491a50>"
      ]
     },
     "execution_count": 14,
     "metadata": {},
     "output_type": "execute_result"
    },
    {
     "data": {
      "image/png": "[encoded data removed]",
      "text/plain": [
       "<matplotlib.figure.Figure at 0x14363add0>"
      ]
     },
     "metadata": {},
     "output_type": "display_data"
    }
   ],
   "source": [
    "%matplotlib inline\n",
    "import matplotlib.pyplot as plt\n",
    "plt.plot(range(32), history.losses)\n",
    "plt.xlabel('Epochs')\n",
    "plt.ylabel('Loss')"
   ]
  },
  {
   "cell_type": "code",
   "execution_count": 15,
   "metadata": {
    "collapsed": false
   },
   "outputs": [
    {
     "name": "stdout",
     "output_type": "stream",
     "text": [
      "18720/18724 [============================>.] - ETA: 0s"
     ]
    }
   ],
   "source": [
    "score = model.evaluate(test_dataset, test_labels, batch_size=20)"
   ]
  },
  {
   "cell_type": "code",
   "execution_count": 16,
   "metadata": {
    "collapsed": false
   },
   "outputs": [
    {
     "name": "stdout",
     "output_type": "stream",
     "text": [
      "Accuracy score is 90.760521\n"
     ]
    }
   ],
   "source": [
    "print('Accuracy score is %f' % (score[1]*100))"
   ]
  },
  {
   "cell_type": "code",
   "execution_count": null,
   "metadata": {
    "collapsed": true
   },
   "outputs": [],
   "source": []
  }
 ],
 "metadata": {
  "colabVersion": "0.3.2",
  "colab_default_view": {},
  "colab_views": {},
  "kernelspec": {
   "display_name": "Python 2",
   "language": "python",
   "name": "python2"
  },
  "language_info": {
   "codemirror_mode": {
    "name": "ipython",
    "version": 2
   },
   "file_extension": ".py",
   "mimetype": "text/x-python",
   "name": "python",
   "nbconvert_exporter": "python",
   "pygments_lexer": "ipython2",
   "version": "2.7.12"
  }
 },
 "nbformat": 4,
 "nbformat_minor": 0
}
